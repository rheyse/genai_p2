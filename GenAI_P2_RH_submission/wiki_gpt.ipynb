{
 "cells": [
  {
   "cell_type": "markdown",
   "metadata": {},
   "source": [
    "# Custom Chatbot Project"
   ]
  },
  {
   "cell_type": "markdown",
   "metadata": {},
   "source": [
    "My chosen dataset are the Wikipedia pages from the NASDAQ100 companies. These articles include recent information on company events, which are not in the model's original training data."
   ]
  },
  {
   "cell_type": "markdown",
   "metadata": {},
   "source": [
    "## Data Wrangling\n",
    "\n",
    "TODO: In the cells below, load your chosen dataset into a `pandas` dataframe with a column named `\"text\"`. This column should contain all of your text data, separated into at least 20 rows."
   ]
  },
  {
   "cell_type": "code",
   "execution_count": 133,
   "metadata": {},
   "outputs": [],
   "source": [
    "import requests\n",
    "from bs4 import BeautifulSoup as bs\n",
    "import pandas as pd\n",
    "import numpy as np"
   ]
  },
  {
   "cell_type": "code",
   "execution_count": null,
   "metadata": {},
   "outputs": [],
   "source": [
    "# read in wiki pages of Nasdaq companies https://en.wikipedia.org/wiki/Nasdaq-100\n",
    "\n",
    "# get the response in the form of html\n",
    "wikiurl=\"https://en.wikipedia.org/wiki/Nasdaq-100\"\n",
    "table_class=\"wikitable sortable jquery-tablesorter\"\n",
    "response=requests.get(wikiurl)\n",
    "print(response.status_code)\n",
    "\n"
   ]
  },
  {
   "cell_type": "code",
   "execution_count": null,
   "metadata": {},
   "outputs": [],
   "source": [
    "# parse data from the html into a beautifulsoup object, find nasdaq table\n",
    "soup = bs(response.text, 'html.parser')\n",
    "nasdaqtable=soup.find_all('table',{'class':\"wikitable\"})[-1]\n",
    "nasdaqtable"
   ]
  },
  {
   "cell_type": "code",
   "execution_count": null,
   "metadata": {},
   "outputs": [],
   "source": [
    "# convert list to dataframe\n",
    "df=pd.read_html(str(nasdaqtable))\n",
    "df=pd.DataFrame(df[0])\n",
    "\n",
    "# clean the company names so that they correspond to the wiki page titles\n",
    "df[\"Company\"] = df[\"Company\"].str.replace(\" (Class A)\", \"\")\n",
    "df[\"Company\"] = df[\"Company\"].str.replace(\" (Class C)\", \"\")\n",
    "df[\"Company\"] = df[\"Company\"].str.replace(\"ADP\", \"ADP (company)\")\n",
    "df[\"Company\"] = df[\"Company\"].str.replace(\"Amazon\", \"Amazon (company)\")\n",
    "df[\"Company\"] = df[\"Company\"].str.replace(\"Broadcom Inc.\", \"Broadcom\")\n",
    "df[\"Company\"] = df[\"Company\"].str.replace(\"Advanced Micro Devices Inc.\", \"AMD\")\n",
    "df[\"Company\"] = df[\"Company\"].str.replace(\"CDW Corporation\", \"CDW\")\n",
    "df[\"Company\"] = df[\"Company\"].str.replace(\"DexCom\", \"Dexcom\")\n",
    "df[\"Company\"] = df[\"Company\"].str.replace(\"Lululemon\", \"Lululemon Athletica\")\n",
    "df[\"Company\"] = df[\"Company\"].str.replace(\"MercadoLibre\", \"Mercado Libre\")\n",
    "df[\"Company\"] = df[\"Company\"].str.replace(\"Mondelēz International\", \"Mondelez International\")\n",
    "df[\"Company\"] = df[\"Company\"].str.replace(\"NXP\", \"NXP Semiconductors\")\n",
    "df[\"Company\"] = df[\"Company\"].str.replace(\"O'Reilly Automotive\", \"O'Reilly Auto Parts\")\n",
    "df[\"Company\"] = df[\"Company\"].str.replace(\"PDD Holdings\", \"Pinduoduo\")\n",
    "df[\"Company\"] = df[\"Company\"].str.replace(\"Regeneron\", \"Regeneron Pharmaceuticals\")\n",
    "df[\"Company\"] = df[\"Company\"].str.replace(\"Verisk\", \"Verisk Analytics\")\n",
    "\n",
    "print(df)"
   ]
  },
  {
   "cell_type": "code",
   "execution_count": null,
   "metadata": {},
   "outputs": [],
   "source": [
    "# get text from the wiki page of each Nasdaq100 company\n",
    "\n",
    "texts = []\n",
    "for c in df[\"Company\"]:\n",
    "    resp = requests.get(f\"https://en.wikipedia.org/w/api.php?action=query&prop=extracts&exlimit=1&titles={c}&explaintext=1&formatversion=2&format=json\")\n",
    "    text = resp.json()[\"query\"][\"pages\"][0][\"extract\"].split(\"\\n\")\n",
    "    print(text[:20])\n",
    "    texts.append(text)"
   ]
  },
  {
   "cell_type": "code",
   "execution_count": null,
   "metadata": {},
   "outputs": [],
   "source": [
    "# add text column and drop the columns we don't need\n",
    "df[\"text\"] = texts\n",
    "df = df.drop(columns=['Ticker', 'GICS Sector', 'GICS Sub-Industry'])"
   ]
  },
  {
   "cell_type": "code",
   "execution_count": null,
   "metadata": {},
   "outputs": [],
   "source": [
    "# split list into separate entries in df text\n",
    "df = df.explode('text')"
   ]
  },
  {
   "cell_type": "code",
   "execution_count": 113,
   "metadata": {},
   "outputs": [],
   "source": [
    "# remove empty strings \n",
    "df['text']=df['text'].str.strip().replace('',np.nan)\n",
    "df.dropna(inplace=True)\n",
    "\n",
    "# remove headers (starting with ==)\n",
    "df = df[~df[\"text\"].str.startswith(\"==\")]\n",
    "\n",
    "# add df[\"Company\"] as prefix to df[\"text\"]\n",
    "df[\"companytext\"] = df[\"Company\"] + \": \" + df[\"text\"]\n",
    "\n",
    "# reset index\n",
    "df = df.reset_index(drop=True)"
   ]
  },
  {
   "cell_type": "code",
   "execution_count": 114,
   "metadata": {},
   "outputs": [
    {
     "data": {
      "text/html": [
       "<div>\n",
       "<style scoped>\n",
       "    .dataframe tbody tr th:only-of-type {\n",
       "        vertical-align: middle;\n",
       "    }\n",
       "\n",
       "    .dataframe tbody tr th {\n",
       "        vertical-align: top;\n",
       "    }\n",
       "\n",
       "    .dataframe thead th {\n",
       "        text-align: right;\n",
       "    }\n",
       "</style>\n",
       "<table border=\"1\" class=\"dataframe\">\n",
       "  <thead>\n",
       "    <tr style=\"text-align: right;\">\n",
       "      <th></th>\n",
       "      <th>Company</th>\n",
       "      <th>text</th>\n",
       "      <th>companytext</th>\n",
       "    </tr>\n",
       "  </thead>\n",
       "  <tbody>\n",
       "    <tr>\n",
       "      <th>0</th>\n",
       "      <td>Adobe Inc.</td>\n",
       "      <td>Adobe Inc. ( ə-DOH-bee), formerly Adobe System...</td>\n",
       "      <td>Adobe Inc.: Adobe Inc. ( ə-DOH-bee), formerly ...</td>\n",
       "    </tr>\n",
       "    <tr>\n",
       "      <th>1</th>\n",
       "      <td>Adobe Inc.</td>\n",
       "      <td>and headquartered in San Jose, California. It ...</td>\n",
       "      <td>Adobe Inc.: and headquartered in San Jose, Cal...</td>\n",
       "    </tr>\n",
       "    <tr>\n",
       "      <th>2</th>\n",
       "      <td>Adobe Inc.</td>\n",
       "      <td>As of 2022, Adobe has more than 26,000 employe...</td>\n",
       "      <td>Adobe Inc.: As of 2022, Adobe has more than 26...</td>\n",
       "    </tr>\n",
       "    <tr>\n",
       "      <th>3</th>\n",
       "      <td>Adobe Inc.</td>\n",
       "      <td>The company was started in John Warnock's gara...</td>\n",
       "      <td>Adobe Inc.: The company was started in John Wa...</td>\n",
       "    </tr>\n",
       "    <tr>\n",
       "      <th>4</th>\n",
       "      <td>Adobe Inc.</td>\n",
       "      <td>In the mid-1980s, Adobe entered the consumer s...</td>\n",
       "      <td>Adobe Inc.: In the mid-1980s, Adobe entered th...</td>\n",
       "    </tr>\n",
       "  </tbody>\n",
       "</table>\n",
       "</div>"
      ],
      "text/plain": [
       "      Company                                               text  \\\n",
       "0  Adobe Inc.  Adobe Inc. ( ə-DOH-bee), formerly Adobe System...   \n",
       "1  Adobe Inc.  and headquartered in San Jose, California. It ...   \n",
       "2  Adobe Inc.  As of 2022, Adobe has more than 26,000 employe...   \n",
       "3  Adobe Inc.  The company was started in John Warnock's gara...   \n",
       "4  Adobe Inc.  In the mid-1980s, Adobe entered the consumer s...   \n",
       "\n",
       "                                         companytext  \n",
       "0  Adobe Inc.: Adobe Inc. ( ə-DOH-bee), formerly ...  \n",
       "1  Adobe Inc.: and headquartered in San Jose, Cal...  \n",
       "2  Adobe Inc.: As of 2022, Adobe has more than 26...  \n",
       "3  Adobe Inc.: The company was started in John Wa...  \n",
       "4  Adobe Inc.: In the mid-1980s, Adobe entered th...  "
      ]
     },
     "execution_count": 114,
     "metadata": {},
     "output_type": "execute_result"
    }
   ],
   "source": [
    "df.head()"
   ]
  },
  {
   "cell_type": "code",
   "execution_count": null,
   "metadata": {},
   "outputs": [],
   "source": [
    "# save as csv file\n",
    "df.to_csv(\"data/nasdaq.csv\")"
   ]
  },
  {
   "cell_type": "code",
   "execution_count": null,
   "metadata": {},
   "outputs": [],
   "source": [
    "# read csv file\n",
    "# df = pd.read_csv(\"data/nasdaq.csv\", index_col=0)"
   ]
  },
  {
   "cell_type": "markdown",
   "metadata": {},
   "source": [
    "## Custom Query Completion\n",
    "\n",
    "TODO: In the cells below, compose a custom query using your chosen dataset and retrieve results from an OpenAI `Completion` model. You may copy and paste any useful code from the course materials."
   ]
  },
  {
   "cell_type": "markdown",
   "metadata": {},
   "source": [
    "### Generate Embeddings"
   ]
  },
  {
   "cell_type": "code",
   "execution_count": 137,
   "metadata": {},
   "outputs": [],
   "source": [
    "import openai\n",
    "from dotenv import load_dotenv\n",
    "import os\n",
    "import tiktoken"
   ]
  },
  {
   "cell_type": "code",
   "execution_count": 138,
   "metadata": {},
   "outputs": [
    {
     "data": {
      "text/plain": [
       "True"
      ]
     },
     "execution_count": 138,
     "metadata": {},
     "output_type": "execute_result"
    }
   ],
   "source": [
    "load_dotenv()"
   ]
  },
  {
   "cell_type": "code",
   "execution_count": 139,
   "metadata": {},
   "outputs": [],
   "source": [
    "openai.api_key = os.environ['OPENAI_API_KEY']"
   ]
  },
  {
   "cell_type": "code",
   "execution_count": 140,
   "metadata": {},
   "outputs": [],
   "source": [
    "client = openai.OpenAI()\n",
    "EMBEDDING_MODEL_NAME = \"text-embedding-3-small\"\n",
    "embedding_encoding = \"cl100k_base\"\n",
    "max_tokens = 8000"
   ]
  },
  {
   "cell_type": "code",
   "execution_count": 142,
   "metadata": {},
   "outputs": [],
   "source": [
    "# gets embedding\n",
    "def get_embedding(text, model=EMBEDDING_MODEL_NAME):\n",
    "    text = text.replace(\"\\n\", \" \")\n",
    "    return client.embeddings.create(input = [text], model=model).data[0].embedding"
   ]
  },
  {
   "cell_type": "code",
   "execution_count": 121,
   "metadata": {},
   "outputs": [
    {
     "data": {
      "text/plain": [
       "3836"
      ]
     },
     "execution_count": 121,
     "metadata": {},
     "output_type": "execute_result"
    }
   ],
   "source": [
    "encoding = tiktoken.get_encoding(embedding_encoding)\n",
    "\n",
    "# omit articles that are too long to embed\n",
    "df[\"n_tokens\"] = df.text.apply(lambda x: len(encoding.encode(x)))\n",
    "df = df[df.n_tokens <= max_tokens]\n",
    "len(df)"
   ]
  },
  {
   "cell_type": "code",
   "execution_count": 122,
   "metadata": {},
   "outputs": [
    {
     "data": {
      "text/html": [
       "<div>\n",
       "<style scoped>\n",
       "    .dataframe tbody tr th:only-of-type {\n",
       "        vertical-align: middle;\n",
       "    }\n",
       "\n",
       "    .dataframe tbody tr th {\n",
       "        vertical-align: top;\n",
       "    }\n",
       "\n",
       "    .dataframe thead th {\n",
       "        text-align: right;\n",
       "    }\n",
       "</style>\n",
       "<table border=\"1\" class=\"dataframe\">\n",
       "  <thead>\n",
       "    <tr style=\"text-align: right;\">\n",
       "      <th></th>\n",
       "      <th>Company</th>\n",
       "      <th>text</th>\n",
       "      <th>companytext</th>\n",
       "      <th>n_tokens</th>\n",
       "    </tr>\n",
       "  </thead>\n",
       "  <tbody>\n",
       "    <tr>\n",
       "      <th>0</th>\n",
       "      <td>Adobe Inc.</td>\n",
       "      <td>Adobe Inc. ( ə-DOH-bee), formerly Adobe System...</td>\n",
       "      <td>Adobe Inc.: Adobe Inc. ( ə-DOH-bee), formerly ...</td>\n",
       "      <td>27</td>\n",
       "    </tr>\n",
       "    <tr>\n",
       "      <th>1</th>\n",
       "      <td>Adobe Inc.</td>\n",
       "      <td>and headquartered in San Jose, California. It ...</td>\n",
       "      <td>Adobe Inc.: and headquartered in San Jose, Cal...</td>\n",
       "      <td>273</td>\n",
       "    </tr>\n",
       "    <tr>\n",
       "      <th>2</th>\n",
       "      <td>Adobe Inc.</td>\n",
       "      <td>As of 2022, Adobe has more than 26,000 employe...</td>\n",
       "      <td>Adobe Inc.: As of 2022, Adobe has more than 26...</td>\n",
       "      <td>63</td>\n",
       "    </tr>\n",
       "    <tr>\n",
       "      <th>3</th>\n",
       "      <td>Adobe Inc.</td>\n",
       "      <td>The company was started in John Warnock's gara...</td>\n",
       "      <td>Adobe Inc.: The company was started in John Wa...</td>\n",
       "      <td>461</td>\n",
       "    </tr>\n",
       "    <tr>\n",
       "      <th>4</th>\n",
       "      <td>Adobe Inc.</td>\n",
       "      <td>In the mid-1980s, Adobe entered the consumer s...</td>\n",
       "      <td>Adobe Inc.: In the mid-1980s, Adobe entered th...</td>\n",
       "      <td>52</td>\n",
       "    </tr>\n",
       "  </tbody>\n",
       "</table>\n",
       "</div>"
      ],
      "text/plain": [
       "      Company                                               text  \\\n",
       "0  Adobe Inc.  Adobe Inc. ( ə-DOH-bee), formerly Adobe System...   \n",
       "1  Adobe Inc.  and headquartered in San Jose, California. It ...   \n",
       "2  Adobe Inc.  As of 2022, Adobe has more than 26,000 employe...   \n",
       "3  Adobe Inc.  The company was started in John Warnock's gara...   \n",
       "4  Adobe Inc.  In the mid-1980s, Adobe entered the consumer s...   \n",
       "\n",
       "                                         companytext  n_tokens  \n",
       "0  Adobe Inc.: Adobe Inc. ( ə-DOH-bee), formerly ...        27  \n",
       "1  Adobe Inc.: and headquartered in San Jose, Cal...       273  \n",
       "2  Adobe Inc.: As of 2022, Adobe has more than 26...        63  \n",
       "3  Adobe Inc.: The company was started in John Wa...       461  \n",
       "4  Adobe Inc.: In the mid-1980s, Adobe entered th...        52  "
      ]
     },
     "execution_count": 122,
     "metadata": {},
     "output_type": "execute_result"
    }
   ],
   "source": [
    "df.head()"
   ]
  },
  {
   "cell_type": "code",
   "execution_count": 131,
   "metadata": {},
   "outputs": [],
   "source": [
    "# get embeddings, this can take a few minutens\n",
    "df[\"embedding\"] = df.companytext.apply(lambda x: get_embedding(x, model=EMBEDDING_MODEL_NAME))\n",
    "df.to_csv(\"data/nasdaq_with_embeddings.csv\")"
   ]
  },
  {
   "cell_type": "code",
   "execution_count": 136,
   "metadata": {},
   "outputs": [],
   "source": [
    "# df = pd.read_csv(\"data/nasdaq_with_embeddings.csv\", index_col=0)\n",
    "# df[\"embedding\"] = df[\"embedding\"].apply(eval).apply(np.array)\n"
   ]
  },
  {
   "cell_type": "markdown",
   "metadata": {},
   "source": [
    "### Create a Function that Finds Related Pieces of Text for a Given Question"
   ]
  },
  {
   "cell_type": "code",
   "execution_count": 159,
   "metadata": {},
   "outputs": [],
   "source": [
    "from scipy.spatial.distance import cosine\n",
    "\n",
    "def get_rows_sorted_by_relevance(question, df):\n",
    "    \"\"\"\n",
    "    Function that takes in a question string and a dataframe containing\n",
    "    rows of text and associated embeddings, and returns that dataframe\n",
    "    sorted from least to most relevant for that question\n",
    "    \"\"\"\n",
    "    \n",
    "    # Get embeddings for the question text\n",
    "    question_embeddings = get_embedding(question, model=EMBEDDING_MODEL_NAME)\n",
    "    \n",
    "    # Make a copy of the dataframe and add a \"distances\" column containing\n",
    "    # the cosine distances between each row's embeddings and the\n",
    "    # embeddings of the question\n",
    "    df_copy = df.copy()\n",
    "    df_copy[\"distances\"] = df_copy[\"embedding\"].apply(lambda x: cosine(question_embeddings, x))\n",
    "    \n",
    "    # Sort the copied dataframe by the distances and return it\n",
    "    # (shorter distance = more relevant so we sort in ascending order)\n",
    "    df_copy.sort_values(\"distances\", ascending=True, inplace=True)\n",
    "    return df_copy"
   ]
  },
  {
   "cell_type": "code",
   "execution_count": 176,
   "metadata": {},
   "outputs": [
    {
     "data": {
      "text/html": [
       "<div>\n",
       "<style scoped>\n",
       "    .dataframe tbody tr th:only-of-type {\n",
       "        vertical-align: middle;\n",
       "    }\n",
       "\n",
       "    .dataframe tbody tr th {\n",
       "        vertical-align: top;\n",
       "    }\n",
       "\n",
       "    .dataframe thead th {\n",
       "        text-align: right;\n",
       "    }\n",
       "</style>\n",
       "<table border=\"1\" class=\"dataframe\">\n",
       "  <thead>\n",
       "    <tr style=\"text-align: right;\">\n",
       "      <th></th>\n",
       "      <th>Company</th>\n",
       "      <th>text</th>\n",
       "      <th>companytext</th>\n",
       "      <th>n_tokens</th>\n",
       "      <th>embedding</th>\n",
       "      <th>distances</th>\n",
       "    </tr>\n",
       "  </thead>\n",
       "  <tbody>\n",
       "    <tr>\n",
       "      <th>3418</th>\n",
       "      <td>Starbucks</td>\n",
       "      <td>In 2022, over a period of a few months, Starbu...</td>\n",
       "      <td>Starbucks: In 2022, over a period of a few mon...</td>\n",
       "      <td>128</td>\n",
       "      <td>[-0.060130178928375244, 0.017282314598560333, ...</td>\n",
       "      <td>0.330274</td>\n",
       "    </tr>\n",
       "    <tr>\n",
       "      <th>3379</th>\n",
       "      <td>Starbucks</td>\n",
       "      <td>As of July 2023:</td>\n",
       "      <td>Starbucks: As of July 2023:</td>\n",
       "      <td>7</td>\n",
       "      <td>[-0.037088118493556976, -0.02450413443148136, ...</td>\n",
       "      <td>0.342081</td>\n",
       "    </tr>\n",
       "    <tr>\n",
       "      <th>3331</th>\n",
       "      <td>Starbucks</td>\n",
       "      <td>Inspired by their colleagues in Buffalo, worke...</td>\n",
       "      <td>Starbucks: Inspired by their colleagues in Buf...</td>\n",
       "      <td>608</td>\n",
       "      <td>[-0.07227139174938202, 0.004459485411643982, 0...</td>\n",
       "      <td>0.347715</td>\n",
       "    </tr>\n",
       "    <tr>\n",
       "      <th>3419</th>\n",
       "      <td>Starbucks</td>\n",
       "      <td>In June 2023, Starbucks attracted controversy ...</td>\n",
       "      <td>Starbucks: In June 2023, Starbucks attracted c...</td>\n",
       "      <td>83</td>\n",
       "      <td>[-0.007473176810890436, 0.007049917243421078, ...</td>\n",
       "      <td>0.366105</td>\n",
       "    </tr>\n",
       "    <tr>\n",
       "      <th>3420</th>\n",
       "      <td>Starbucks</td>\n",
       "      <td>In late 2023, Starbucks faced boycotts followi...</td>\n",
       "      <td>Starbucks: In late 2023, Starbucks faced boyco...</td>\n",
       "      <td>97</td>\n",
       "      <td>[-0.0343046598136425, -0.03726150840520859, 0....</td>\n",
       "      <td>0.369605</td>\n",
       "    </tr>\n",
       "    <tr>\n",
       "      <th>...</th>\n",
       "      <td>...</td>\n",
       "      <td>...</td>\n",
       "      <td>...</td>\n",
       "      <td>...</td>\n",
       "      <td>...</td>\n",
       "      <td>...</td>\n",
       "    </tr>\n",
       "    <tr>\n",
       "      <th>576</th>\n",
       "      <td>Analog Devices</td>\n",
       "      <td>Radio frequency integrated circuits (RFICs) ad...</td>\n",
       "      <td>Analog Devices: Radio frequency integrated cir...</td>\n",
       "      <td>150</td>\n",
       "      <td>[0.013311444781720638, -0.013323535211384296, ...</td>\n",
       "      <td>1.023664</td>\n",
       "    </tr>\n",
       "    <tr>\n",
       "      <th>868</th>\n",
       "      <td>Autodesk</td>\n",
       "      <td>Autodesk Life Sciences is an extensible toolki...</td>\n",
       "      <td>Autodesk: Autodesk Life Sciences is an extensi...</td>\n",
       "      <td>61</td>\n",
       "      <td>[0.021789707243442535, 0.04394540935754776, 0....</td>\n",
       "      <td>1.024080</td>\n",
       "    </tr>\n",
       "    <tr>\n",
       "      <th>585</th>\n",
       "      <td>Analog Devices</td>\n",
       "      <td>Each reference circuit is documented with test...</td>\n",
       "      <td>Analog Devices: Each reference circuit is docu...</td>\n",
       "      <td>53</td>\n",
       "      <td>[0.0030809645541012287, -0.017646614462137222,...</td>\n",
       "      <td>1.042249</td>\n",
       "    </tr>\n",
       "    <tr>\n",
       "      <th>1480</th>\n",
       "      <td>Copart</td>\n",
       "      <td>Among the vehicles sold by insurance companies...</td>\n",
       "      <td>Copart: Among the vehicles sold by insurance c...</td>\n",
       "      <td>30</td>\n",
       "      <td>[0.035497698932886124, 0.015237448737025261, -...</td>\n",
       "      <td>1.045679</td>\n",
       "    </tr>\n",
       "    <tr>\n",
       "      <th>584</th>\n",
       "      <td>Analog Devices</td>\n",
       "      <td>Analog Devices offers reference circuits throu...</td>\n",
       "      <td>Analog Devices: Analog Devices offers referenc...</td>\n",
       "      <td>55</td>\n",
       "      <td>[-0.0025196971837431192, -0.024451574310660362...</td>\n",
       "      <td>1.045957</td>\n",
       "    </tr>\n",
       "  </tbody>\n",
       "</table>\n",
       "<p>3836 rows × 6 columns</p>\n",
       "</div>"
      ],
      "text/plain": [
       "             Company                                               text  \\\n",
       "3418       Starbucks  In 2022, over a period of a few months, Starbu...   \n",
       "3379       Starbucks                                   As of July 2023:   \n",
       "3331       Starbucks  Inspired by their colleagues in Buffalo, worke...   \n",
       "3419       Starbucks  In June 2023, Starbucks attracted controversy ...   \n",
       "3420       Starbucks  In late 2023, Starbucks faced boycotts followi...   \n",
       "...              ...                                                ...   \n",
       "576   Analog Devices  Radio frequency integrated circuits (RFICs) ad...   \n",
       "868         Autodesk  Autodesk Life Sciences is an extensible toolki...   \n",
       "585   Analog Devices  Each reference circuit is documented with test...   \n",
       "1480          Copart  Among the vehicles sold by insurance companies...   \n",
       "584   Analog Devices  Analog Devices offers reference circuits throu...   \n",
       "\n",
       "                                            companytext  n_tokens  \\\n",
       "3418  Starbucks: In 2022, over a period of a few mon...       128   \n",
       "3379                        Starbucks: As of July 2023:         7   \n",
       "3331  Starbucks: Inspired by their colleagues in Buf...       608   \n",
       "3419  Starbucks: In June 2023, Starbucks attracted c...        83   \n",
       "3420  Starbucks: In late 2023, Starbucks faced boyco...        97   \n",
       "...                                                 ...       ...   \n",
       "576   Analog Devices: Radio frequency integrated cir...       150   \n",
       "868   Autodesk: Autodesk Life Sciences is an extensi...        61   \n",
       "585   Analog Devices: Each reference circuit is docu...        53   \n",
       "1480  Copart: Among the vehicles sold by insurance c...        30   \n",
       "584   Analog Devices: Analog Devices offers referenc...        55   \n",
       "\n",
       "                                              embedding  distances  \n",
       "3418  [-0.060130178928375244, 0.017282314598560333, ...   0.330274  \n",
       "3379  [-0.037088118493556976, -0.02450413443148136, ...   0.342081  \n",
       "3331  [-0.07227139174938202, 0.004459485411643982, 0...   0.347715  \n",
       "3419  [-0.007473176810890436, 0.007049917243421078, ...   0.366105  \n",
       "3420  [-0.0343046598136425, -0.03726150840520859, 0....   0.369605  \n",
       "...                                                 ...        ...  \n",
       "576   [0.013311444781720638, -0.013323535211384296, ...   1.023664  \n",
       "868   [0.021789707243442535, 0.04394540935754776, 0....   1.024080  \n",
       "585   [0.0030809645541012287, -0.017646614462137222,...   1.042249  \n",
       "1480  [0.035497698932886124, 0.015237448737025261, -...   1.045679  \n",
       "584   [-0.0025196971837431192, -0.024451574310660362...   1.045957  \n",
       "\n",
       "[3836 rows x 6 columns]"
      ]
     },
     "execution_count": 176,
     "metadata": {},
     "output_type": "execute_result"
    }
   ],
   "source": [
    "get_rows_sorted_by_relevance(\"Did Starbucks workers go on strike in 2023?\", df)"
   ]
  },
  {
   "cell_type": "markdown",
   "metadata": {},
   "source": [
    "### Create a Function that Composes a Text Prompt"
   ]
  },
  {
   "cell_type": "code",
   "execution_count": 167,
   "metadata": {},
   "outputs": [],
   "source": [
    "def create_prompt(question, df, max_token_count):\n",
    "    \"\"\"\n",
    "    Given a question and a dataframe containing rows of text and their\n",
    "    embeddings, return a text prompt to send to a Completion model\n",
    "    \"\"\"\n",
    "    \n",
    "    # Count the number of tokens in the prompt template and question\n",
    "    prompt_template = \"\"\"\n",
    "Answer the question based on the context below, and if the question\n",
    "can't be answered based on the context, say \"I don't know\"\n",
    "\n",
    "Context: \n",
    "\n",
    "{}\n",
    "\n",
    "---\n",
    "\n",
    "Question: {}\n",
    "Answer:\"\"\"\n",
    "    \n",
    "    current_token_count = len(encoding.encode(prompt_template)) + \\\n",
    "                            len(encoding.encode(question))\n",
    "    \n",
    "    context = []\n",
    "    for text in get_rows_sorted_by_relevance(question, df)[\"text\"].values:\n",
    "        \n",
    "        # Increase the counter based on the number of tokens in this row\n",
    "        text_token_count = len(encoding.encode(text))\n",
    "        current_token_count += text_token_count\n",
    "        \n",
    "        # Add the row of text to the list if we haven't exceeded the max\n",
    "        if current_token_count <= max_token_count:\n",
    "            context.append(text)\n",
    "        else:\n",
    "            break\n",
    "\n",
    "    return prompt_template.format(\"\\n\\n###\\n\\n\".join(context), question)\n",
    "    "
   ]
  },
  {
   "cell_type": "code",
   "execution_count": 169,
   "metadata": {},
   "outputs": [
    {
     "name": "stdout",
     "output_type": "stream",
     "text": [
      "\n",
      "Answer the question based on the context below, and if the question\n",
      "can't be answered based on the context, say \"I don't know\"\n",
      "\n",
      "Context: \n",
      "\n",
      "From July 2019 to June 2020, Tesla reported four consecutive profitable quarters for the first time, which made it eligible for inclusion in the S&P 500. Tesla was added to the index on December 21, 2020. It was the most valuable company ever added, and was the sixth-largest member of the index immediately after it was added. During 2020, the share price increased 740%, and on January 26, 2021, its market capitalization reached $848 billion, more than the next nine largest automakers combined and becoming the fifth most valuable company in the US.Tesla introduced its second mass-market vehicle in March 2019, the Model Y mid-size crossover SUV, based on the Model 3. Deliveries started in March 2020.During this period, Tesla invested heavily in expanding its production capacity, opening three new Gigafactories in quick succession. Construction of Gigafactory Shanghai started in January 2019, as the first automobile factory in China fully owned by a foreign company (not a joint venture). The first production vehicle, a Model 3, rolled out of the factory in December, less than one year after groundbreaking. Gigafactory Berlin-Brandenburg broke ground in February 2020, and production of the Model Y began in March 2022. Gigafactory Texas broke ground in June 2020, production of the Model Y began in April 2022, and production of the Cybertruck began in November 2023. In March 2023, Tesla announced plans for a Gigafactory Mexico to open in 2025.At the beginning of the COVID-19 pandemic, Tesla closed the Fremont Factory in March 2020 due to California state and Alameda county COVID restrictions. When California lifted restrictions, but the county did not, Tesla sued the county, and restarted production on May 11, 2020. The county lifted restrictions on May 13, 2020, and Tesla dropped its lawsuit. After the dispute with county officials, on December 1, 2021, Tesla moved its legal headquarters to Gigafactory Texas. However, Tesla continued to use its former headquarters building in Palo Alto, and over the next two years significantly expanded its footprint in California. The company opened its Megafactory to build Megapack batteries in Lathrop, California in 2022, and announced in February 2023 that it would establish a large global engineering headquarters in Palo Alto, moving into a corporate campus once owned by Hewlett Packard.Tesla became a major investor in bitcoin, acquiring $1.5 billion of the cryptocurrency, and on March 24, 2021, the company started accepting bitcoin as a form of payment for US vehicle purchases. However, after 49 days, the company ended bitcoin payments over concerns that the production of bitcoin was contributing to the consumption of fossil fuels, against the company's mission of encouraging the transition to sustainable energy. After the announcement, the price of bitcoin dropped around 12%. In July 2022 it was reported that Tesla had sold about 75% of its bitcoin holdings at a loss, citing that the cryptocurrency was hurting the company's profitability.\n",
      "\n",
      "###\n",
      "\n",
      "Tesla entered the solar installation business in November 2016 with the purchase of SolarCity, in an all-stock $2.6 billion deal. The business was merged with Tesla's existing battery energy storage products division to form the Tesla Energy subsidiary. The deal was controversial because at the time of the acquisition, SolarCity was facing liquidity issues of which Tesla's shareholders were not informed. In February 2017, Tesla Motors changed its name to Tesla, Inc. to better reflect the scope of its expanded business.Tesla unveiled its first mass market vehicle in April 2016, the Model 3 sedan. Compared to Tesla's previous luxury vehicles, the Model 3 was less expensive and within a week the company received over 325,000 paid reservations. In an effort to speed up production and control costs, Tesla invested heavily in robotics and automation to assemble the Model 3. Instead, the robotics actually slowed the production of the vehicles, leading to significant delays and production problems, a period which the company would later come to describe as \"production hell.\" By the end of 2018, the production problems had been overcome, and the Model 3 would become the world's bestselling electric car from 2018 to 2021.This period of production hell put significant financial pressure on Tesla, and during this time it became one of the most shorted companies in the market. On August 8, 2018, amid the financial issues, Musk posted on social media that he was considering taking Tesla private. The plan did not materialize and gave rise to much controversy and many lawsuits including a securities fraud charge from the SEC, which would force Musk to step down as the company's chairman, although he was allowed to remain CEO.\n",
      "\n",
      "###\n",
      "\n",
      "Tesla was incorporated in July 2003 by Martin Eberhard and Marc Tarpenning as Tesla Motors. The company's name is a tribute to inventor and electrical engineer Nikola Tesla. In February 2004 Elon Musk joined as the company's largest shareholder and in 2008 he was named CEO. In 2008, the company began production of its first car model, the Roadster sports car, followed by the Model S sedan in 2012, the Model X SUV in 2015, the Model 3 sedan in 2017, the Model Y crossover in 2020, the Tesla Semi truck in 2022 and the Cybertruck pickup truck in 2023. The Model 3 is the all-time bestselling plug-in electric car worldwide, and in June 2021 became the first electric car to sell 1 million units globally. In 2023, the Model Y was the best-selling vehicle, of any kind, globally.Tesla is one of the world's most valuable companies in terms of market capitalization. In October 2021, Tesla's market capitalization temporarily reached $1 trillion, the sixth company to do so in U.S. history.  In 2022, the company led the battery electric vehicle market, with 18% share. As of 2023, it is the world's most valuable automaker. Also in 2023, the company was ranked 69th in the Forbes Global 2000.Tesla has been the subject of lawsuits, government scrutiny, and journalistic criticism, stemming from allegations of whistleblower retaliation, worker rights violations, product defects, and Musk's many controversial statements.\n",
      "\n",
      "###\n",
      "\n",
      "In May 2010, Tesla purchased what would later become the Tesla Factory in Fremont, California, from Toyota for $42 million, and opened the facility in October 2010 to start production of the Model S. On June 29, 2010, the company went public via an initial public offering (IPO) on the NASDAQ, the first American car company to do so since the Ford Motor Company had its IPO in 1956. The company issued 13.3 million shares of common stock at a price of $17 per share, raising $226 million.In January 2012, Tesla ceased production of the Roadster, and in June the company launched its second car, the Model S luxury sedan. The Model S won several automotive awards during 2012 and 2013, including the 2013 Motor Trend Car of the Year, and became the first electric car to top the monthly sales ranking of a country, when it achieved first place in the Norwegian new car sales list in September 2013. The Model S was also the bestselling plug-in electric car worldwide for the years 2015 and 2016.Tesla announced the Tesla Autopilot, a driver-assistance system, in 2014. In September that year, all Tesla cars started shipping with sensors and software to support the feature, with what would later be called \"hardware version 1\".Tesla entered the energy storage market, unveiling its Tesla Powerwall (home) and Tesla Powerpack (business) battery packs in April 2015. The company received orders valued at $800 million within a week of the unveiling.Tesla began shipping its third vehicle, the luxury SUV Tesla Model X, in September 2015, which had 25,000 pre-orders at the time.\n",
      "\n",
      "---\n",
      "\n",
      "Question: What happend at Tesla in 2023?\n",
      "Answer:\n"
     ]
    }
   ],
   "source": [
    "print(create_prompt(\"What happend at Tesla in 2023?\", df, 1800))"
   ]
  },
  {
   "cell_type": "markdown",
   "metadata": {},
   "source": [
    "### Create a Function that Answers a Question"
   ]
  },
  {
   "cell_type": "code",
   "execution_count": 172,
   "metadata": {},
   "outputs": [],
   "source": [
    "COMPLETION_MODEL_NAME = \"gpt-3.5-turbo-instruct\"\n",
    "\n",
    "def answer_question(\n",
    "    question, df, max_prompt_tokens=1800, max_answer_tokens=150\n",
    "):\n",
    "    \"\"\"\n",
    "    Given a question, a dataframe containing rows of text, and a maximum\n",
    "    number of desired tokens in the prompt and response, return the\n",
    "    answer to the question according to an OpenAI Completion model\n",
    "    \n",
    "    If the model produces an error, return an empty string\n",
    "    \"\"\"\n",
    "   \n",
    "    prompt = create_prompt(question, df, max_prompt_tokens)\n",
    "    \n",
    "    try:\n",
    "        response = client.completions.create(\n",
    "            model=COMPLETION_MODEL_NAME,\n",
    "            prompt=prompt,\n",
    "            max_tokens=max_answer_tokens\n",
    "        )\n",
    "        return response.choices[0].text.strip()\n",
    "    except Exception as e:\n",
    "        print(e)\n",
    "        return \"\""
   ]
  },
  {
   "cell_type": "code",
   "execution_count": 173,
   "metadata": {},
   "outputs": [
    {
     "name": "stdout",
     "output_type": "stream",
     "text": [
      "As of 2023, Tesla is the world's most valuable automaker and ranked 69th in the Forbes Global 2000.\n"
     ]
    }
   ],
   "source": [
    "custom_tesla_answer = answer_question(\"What happend at Tesla in 2023?\", df)\n",
    "print(custom_tesla_answer)"
   ]
  },
  {
   "cell_type": "code",
   "execution_count": 175,
   "metadata": {},
   "outputs": [
    {
     "name": "stdout",
     "output_type": "stream",
     "text": [
      "Yes. In June 2023, workers at unionized stores went on strike over the company's stance on in-store LGBT pride decorations.\n"
     ]
    }
   ],
   "source": [
    "custom_starbucks_answer = answer_question(\"Did Starbucks workers go on strike in 2023?\", df)\n",
    "print(custom_starbucks_answer)"
   ]
  },
  {
   "cell_type": "markdown",
   "metadata": {},
   "source": [
    "## Custom Performance Demonstration\n",
    "\n",
    "TODO: In the cells below, demonstrate the performance of your custom query using at least 2 questions. For each question, show the answer from a basic `Completion` model query as well as the answer from your custom query."
   ]
  },
  {
   "cell_type": "markdown",
   "metadata": {},
   "source": [
    "### Question 1"
   ]
  },
  {
   "cell_type": "code",
   "execution_count": 177,
   "metadata": {},
   "outputs": [
    {
     "name": "stdout",
     "output_type": "stream",
     "text": [
      "I am an AI and I do not have access to specific future events. Therefore, I cannot accurately answer this question.\n"
     ]
    }
   ],
   "source": [
    "client = openai.OpenAI()\n",
    "tesla_prompt = \"\"\"\n",
    "Question: \"What happend at Tesla in 2023?\"\n",
    "Answer:\n",
    "\"\"\"\n",
    "initial_tesla_answer = client.completions.create(\n",
    "    model=\"gpt-3.5-turbo-instruct\",\n",
    "    prompt=tesla_prompt,\n",
    "    max_tokens=150\n",
    ").choices[0].text\n",
    "print(initial_tesla_answer)"
   ]
  },
  {
   "cell_type": "code",
   "execution_count": 178,
   "metadata": {},
   "outputs": [
    {
     "name": "stdout",
     "output_type": "stream",
     "text": [
      "\n",
      "What happend at Tesla in 2023?\n",
      "\n",
      "Original Answer: I am an AI and I do not have access to specific future events. Therefore, I cannot accurately answer this question.\n",
      "Custom Answer:   As of 2023, Tesla is the world's most valuable automaker and ranked 69th in the Forbes Global 2000.\n",
      "\n",
      "\n"
     ]
    }
   ],
   "source": [
    "print(f\"\"\"\n",
    "What happend at Tesla in 2023?\n",
    "\n",
    "Original Answer: {initial_tesla_answer}\n",
    "Custom Answer:   {custom_tesla_answer}\n",
    "\n",
    "\"\"\")"
   ]
  },
  {
   "cell_type": "markdown",
   "metadata": {},
   "source": [
    "### Question 2"
   ]
  },
  {
   "cell_type": "code",
   "execution_count": 179,
   "metadata": {},
   "outputs": [
    {
     "name": "stdout",
     "output_type": "stream",
     "text": [
      "\n",
      "No, there is no evidence that Starbucks workers went on strike in 2023. \n"
     ]
    }
   ],
   "source": [
    "client = openai.OpenAI()\n",
    "starbucks_prompt = \"\"\"\n",
    "Question: \"Did Starbucks workers go on strike in 2023?\"\n",
    "\"\"\"\n",
    "initial_starbucks_answer = client.completions.create(\n",
    "    model=\"gpt-3.5-turbo-instruct\",\n",
    "    prompt=starbucks_prompt,\n",
    "    max_tokens=150\n",
    ").choices[0].text\n",
    "print(initial_starbucks_answer)"
   ]
  },
  {
   "cell_type": "code",
   "execution_count": 180,
   "metadata": {},
   "outputs": [
    {
     "name": "stdout",
     "output_type": "stream",
     "text": [
      "\n",
      "What were the American unionization efforts at Starbucks in 2023?\"\n",
      "\n",
      "Original Answer: \n",
      "No, there is no evidence that Starbucks workers went on strike in 2023. \n",
      "Custom Answer:   Yes. In June 2023, workers at unionized stores went on strike over the company's stance on in-store LGBT pride decorations.\n",
      "\n",
      "\n"
     ]
    }
   ],
   "source": [
    "print(f\"\"\"\n",
    "What were the American unionization efforts at Starbucks in 2023?\"\n",
    "\n",
    "Original Answer: {initial_starbucks_answer}\n",
    "Custom Answer:   {custom_starbucks_answer}\n",
    "\n",
    "\"\"\")"
   ]
  },
  {
   "cell_type": "code",
   "execution_count": null,
   "metadata": {},
   "outputs": [],
   "source": []
  }
 ],
 "metadata": {
  "kernelspec": {
   "display_name": "Python 3",
   "language": "python",
   "name": "python3"
  },
  "language_info": {
   "codemirror_mode": {
    "name": "ipython",
    "version": 3
   },
   "file_extension": ".py",
   "mimetype": "text/x-python",
   "name": "python",
   "nbconvert_exporter": "python",
   "pygments_lexer": "ipython3",
   "version": "3.12.2"
  }
 },
 "nbformat": 4,
 "nbformat_minor": 2
}
